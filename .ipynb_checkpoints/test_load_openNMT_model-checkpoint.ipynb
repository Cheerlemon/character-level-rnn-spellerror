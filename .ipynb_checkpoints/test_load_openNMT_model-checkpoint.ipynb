{
 "cells": [
  {
   "cell_type": "code",
   "execution_count": 19,
   "metadata": {},
   "outputs": [],
   "source": [
    "import onmt\n",
    "import onmt.io\n",
    "import onmt.translate\n",
    "import onmt.ModelConstructor\n",
    "from collections import namedtuple\n",
    "from itertools import count"
   ]
  },
  {
   "cell_type": "code",
   "execution_count": 81,
   "metadata": {},
   "outputs": [
    {
     "name": "stdout",
     "output_type": "stream",
     "text": [
      "Loading model parameters.\n"
     ]
    }
   ],
   "source": [
    "# Load the model.\n",
    "Opt = namedtuple('Opt', ['model', 'data_type', 'reuse_copy_attn', \"gpu\"])\n",
    "\n",
    "opt = Opt(\"ch-merge-model/demo_model_acc_91.31_ppl_1.70_e13.pt\", \"text\",False, 0)\n",
    "fields, model, model_opt =  onmt.ModelConstructor.load_test_model(opt,{\"reuse_copy_attn\":False})\n"
   ]
  },
  {
   "cell_type": "code",
   "execution_count": 82,
   "metadata": {},
   "outputs": [
    {
     "name": "stdout",
     "output_type": "stream",
     "text": [
      "average src size 6.470588235294118 17\n"
     ]
    }
   ],
   "source": [
    "data = onmt.io.build_dataset(fields, \"text\", \"text.txt\", None, use_filter_pred=False)"
   ]
  },
  {
   "cell_type": "code",
   "execution_count": 9,
   "metadata": {},
   "outputs": [],
   "source": [
    "data_iter = onmt.io.OrderedIterator(\n",
    "        dataset=data, device=0,\n",
    "        batch_size=1, train=False, sort=False,\n",
    "        sort_within_batch=True, shuffle=False)"
   ]
  },
  {
   "cell_type": "code",
   "execution_count": 65,
   "metadata": {},
   "outputs": [],
   "source": [
    "# Translator\n",
    "scorer = onmt.translate.GNMTGlobalScorer(None,\n",
    "                                         None,\n",
    "                                         None,\n",
    "                                         None)\n",
    "# Translator\n",
    "translator = onmt.translate.Translator(model, fields,\n",
    "                                           beam_size=10,\n",
    "                                           n_best=5,\n",
    "                                           global_scorer=scorer,\n",
    "                                           cuda=True)"
   ]
  },
  {
   "cell_type": "code",
   "execution_count": null,
   "metadata": {},
   "outputs": [],
   "source": []
  },
  {
   "cell_type": "code",
   "execution_count": 66,
   "metadata": {},
   "outputs": [],
   "source": [
    "builder = onmt.translate.TranslationBuilder(\n",
    "        data, translator.fields,\n",
    "        5, False, None)"
   ]
  },
  {
   "cell_type": "code",
   "execution_count": 67,
   "metadata": {},
   "outputs": [
    {
     "name": "stdout",
     "output_type": "stream",
     "text": [
      "src: a p p l a\n",
      "tgt: ['apples', 'apple', 'apply', 'appeal', 'appeals']\n",
      "src: s t r a n g\n",
      "tgt: ['strange', 'strong', 'straight', 'strong,', 'starting']\n",
      "src: w e a n t e r\n",
      "tgt: ['weather', 'winter', 'water', 'weather,', 'whether']\n",
      "src: g o s t\n",
      "tgt: ['ghost', 'got', 'goes', 'most', 'go']\n",
      "src: s t r e a g h\n",
      "tgt: ['straight', 'strength', 'street', 'stretch', 'street.']\n",
      "src: e x c l a t i o n\n",
      "tgt: ['evaluation', 'education', 'evolution', 'educating', 'evacuation']\n",
      "src: f a n c e\n",
      "tgt: ['fence', 'france', 'fancy', 'dance', 'fiancee']\n",
      "src: n e r r o w\n",
      "tgt: ['narrow', 'nervous', 'nero', 'network', 'nephew']\n",
      "src: a n g r a y\n",
      "tgt: ['angry', 'unday', 'andrey', 'hungry', 'america']\n",
      "src: m a n g e r\n",
      "tgt: ['manager', 'manager,', 'manager.', 'manage', 'managers']\n",
      "src: a n s i o n\n",
      "tgt: ['mansion', 'station', 'amsung', 'antiago', 'arguing']\n",
      "src: w a i g h t\n",
      "tgt: ['wait', 'white', 'weight', 'width', 'weighs']\n",
      "src: r i b b e t e s\n",
      "tgt: ['rabbits', 'respective', 'rabbits,', 'receptive', 'recipes']\n",
      "src: c h a c h i n g\n",
      "tgt: ['chang', 'chechen', 'chancing', 'change', 'charging']\n",
      "src: c o m m i n g\n",
      "tgt: ['coming', 'come', 'comic', 'coming.', 'came']\n",
      "src: c l o u t h s\n",
      "tgt: ['clothes', 'clothes.', 'cloth', 'clothes,', 'clothing']\n",
      "src: f i n a c e s\n",
      "tgt: ['finances', \"fiance's\", \"finance's\", 'finance', 'fiance']\n"
     ]
    },
    {
     "name": "stderr",
     "output_type": "stream",
     "text": [
      "/home/nlplab/ting/ch-OpenNMT-py/onmt/modules/GlobalAttention.py:176: UserWarning: Implicit dimension choice for softmax has been deprecated. Change the call to include dim=X as an argument.\n",
      "  align_vectors = self.sm(align.view(batch*targetL, sourceL))\n",
      "/home/nlplab/ting/anaconda3/lib/python3.6/site-packages/torch/nn/modules/container.py:67: UserWarning: Implicit dimension choice for log_softmax has been deprecated. Change the call to include dim=X as an argument.\n",
      "  input = module(input)\n",
      "/home/nlplab/ting/anaconda3/lib/python3.6/site-packages/ipykernel_launcher.py:1: DeprecationWarning: generator 'Iterator.__iter__' raised StopIteration\n",
      "  \"\"\"Entry point for launching an IPython kernel.\n"
     ]
    }
   ],
   "source": [
    "for batch in data_iter:\n",
    "    batch_data = translator.translate_batch(batch, data)\n",
    "    translations = builder.from_batch(batch_data)\n",
    "    for trans in translations:\n",
    "        n_best_preds = [\" \".join(pred) for pred in trans.pred_sents[:5]]\n",
    "    print(\"src:\", \" \".join(translations[0].src_raw))\n",
    "    print(\"tgt:\",n_best_preds)"
   ]
  },
  {
   "cell_type": "code",
   "execution_count": 68,
   "metadata": {},
   "outputs": [
    {
     "name": "stderr",
     "output_type": "stream",
     "text": [
      "/home/nlplab/ting/ch-OpenNMT-py/onmt/modules/GlobalAttention.py:176: UserWarning: Implicit dimension choice for softmax has been deprecated. Change the call to include dim=X as an argument.\n",
      "  align_vectors = self.sm(align.view(batch*targetL, sourceL))\n",
      "/home/nlplab/ting/anaconda3/lib/python3.6/site-packages/torch/nn/modules/container.py:67: UserWarning: Implicit dimension choice for log_softmax has been deprecated. Change the call to include dim=X as an argument.\n",
      "  input = module(input)\n"
     ]
    },
    {
     "name": "stdout",
     "output_type": "stream",
     "text": [
      "src: a p p l a\n",
      "tgt: apples\n",
      "\n",
      "src: s t r a n g\n",
      "tgt: strange\n",
      "\n",
      "src: w e a n t e r\n",
      "tgt: weather\n",
      "\n",
      "src: g o s t\n",
      "tgt: ghost\n",
      "\n",
      "src: s t r e a g h\n",
      "tgt: straight\n",
      "\n",
      "src: e x c l a t i o n\n",
      "tgt: evaluation\n",
      "\n",
      "src: f a n c e\n",
      "tgt: fence\n",
      "\n",
      "src: n e r r o w\n",
      "tgt: narrow\n",
      "\n",
      "src: a n g r a y\n",
      "tgt: angry\n",
      "\n",
      "src: m a n g e r\n",
      "tgt: manager\n",
      "\n",
      "src: a n s i o n\n",
      "tgt: mansion\n",
      "\n",
      "src: w a i g h t\n",
      "tgt: wait\n",
      "\n",
      "src: r i b b e t e s\n",
      "tgt: rabbits\n",
      "\n",
      "src: c h a c h i n g\n",
      "tgt: chang\n",
      "\n",
      "src: c o m m i n g\n",
      "tgt: coming\n",
      "\n",
      "src: c l o u t h s\n",
      "tgt: clothes\n",
      "\n",
      "src: f i n a c e s\n",
      "tgt: finances\n",
      "\n"
     ]
    },
    {
     "name": "stderr",
     "output_type": "stream",
     "text": [
      "/home/nlplab/ting/anaconda3/lib/python3.6/site-packages/ipykernel_launcher.py:1: DeprecationWarning: generator 'Iterator.__iter__' raised StopIteration\n",
      "  \"\"\"Entry point for launching an IPython kernel.\n"
     ]
    }
   ],
   "source": [
    "for j, batch in enumerate(data_iter):\n",
    "        batch_data = translator.translate_batch(batch, data)\n",
    "        translations = builder.from_batch(batch_data)\n",
    "        print(\"src:\", \" \".join(translations[0].src_raw))\n",
    "        \n",
    "        print(\"tgt:\", \" \".join(translations[0].pred_sents[0]))\n",
    "        \n",
    "        print()"
   ]
  },
  {
   "cell_type": "code",
   "execution_count": null,
   "metadata": {},
   "outputs": [],
   "source": []
  }
 ],
 "metadata": {
  "kernelspec": {
   "display_name": "Python 3",
   "language": "python",
   "name": "python3"
  },
  "language_info": {
   "codemirror_mode": {
    "name": "ipython",
    "version": 3
   },
   "file_extension": ".py",
   "mimetype": "text/x-python",
   "name": "python",
   "nbconvert_exporter": "python",
   "pygments_lexer": "ipython3",
   "version": "3.6.4"
  }
 },
 "nbformat": 4,
 "nbformat_minor": 2
}
